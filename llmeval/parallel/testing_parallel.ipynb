{
 "cells": [
  {
   "cell_type": "code",
   "execution_count": 1,
   "metadata": {},
   "outputs": [
    {
     "name": "stderr",
     "output_type": "stream",
     "text": [
      "c:\\Users\\johns\\AppData\\Local\\Programs\\Python\\Python311\\Lib\\site-packages\\pydantic\\_internal\\_fields.py:151: UserWarning: Field \"model_max_budget\" has conflict with protected namespace \"model_\".\n",
      "\n",
      "You may be able to resolve this warning by setting `model_config['protected_namespaces'] = ()`.\n",
      "  warnings.warn(\n"
     ]
    }
   ],
   "source": [
    "from file_format import *\n",
    "from parallel_process import *\n",
    "import subprocess"
   ]
  },
  {
   "cell_type": "code",
   "execution_count": 2,
   "metadata": {},
   "outputs": [],
   "source": [
    "windows = True\n",
    "mac = False"
   ]
  },
  {
   "cell_type": "code",
   "execution_count": 3,
   "metadata": {},
   "outputs": [],
   "source": [
    "num_conversations = 20\n",
    "num_iterations = 5\n",
    "regen_lim = 3\n",
    "regen_thresh = 6\n",
    "domain = \"Single Online Medical Diagnosis\"\n",
    "trait = \"Fairness\"\n",
    "trait_definition = \"The ethical principle of ensuring that LLMs are designed, trained, and deployed in ways that do not lead to biased or discriminatory outcomes and that they treat all users and groups equitably.\""
   ]
  },
  {
   "cell_type": "code",
   "execution_count": 4,
   "metadata": {},
   "outputs": [],
   "source": [
    "if windows: \n",
    "    script_path = r\"C:\\Users\\johns\\OneDrive\\Desktop\\LLM_Trust_Trust_Evaluation\\llmeval\\parallel\\parallel_request.py\"\n",
    "    gen_in_path = r'C:\\Users\\johns\\OneDrive\\Desktop\\LLM_Trust_Trust_Evaluation\\llmeval\\parallel\\gen_in.jsonl'\n",
    "    gen_out_path = r\"C:\\Users\\johns\\OneDrive\\Desktop\\LLM_Trust_Trust_Evaluation\\llmeval\\parallel\\gen_out.jsonl\"\n",
    "    ver_in_path = r\"C:\\Users\\johns\\OneDrive\\Desktop\\LLM_Trust_Trust_Evaluation\\llmeval\\parallel\\ver_in.jsonl\"\n",
    "    ver_out_path = r\"C:\\Users\\johns\\OneDrive\\Desktop\\LLM_Trust_Trust_Evaluation\\llmeval\\parallel\\ver_out.jsonl\"\n",
    "    regen_in_path = r'C:\\Users\\johns\\OneDrive\\Desktop\\LLM_Trust_Trust_Evaluation\\llmeval\\parallel\\regen_in.jsonl'\n",
    "    regen_out_path = r\"C:\\Users\\johns\\OneDrive\\Desktop\\LLM_Trust_Trust_Evaluation\\llmeval\\parallel\\regen_out.jsonl\"\n",
    "    tar_in_path = r\"C:\\Users\\johns\\OneDrive\\Desktop\\LLM_Trust_Trust_Evaluation\\llmeval\\parallel\\tar_in.jsonl\"\n",
    "    tar_out_path = r\"C:\\Users\\johns\\OneDrive\\Desktop\\LLM_Trust_Trust_Evaluation\\llmeval\\parallel\\tar_out.jsonl\"\n",
    "    history_path = r\"C:\\Users\\johns\\OneDrive\\Desktop\\LLM_Trust_Trust_Evaluation\\llmeval\\parallel\\history.json\"\n",
    "\n",
    "\n",
    "if mac: \n",
    "    script_path = \"/Users/john/Desktop/LLM_Trust_Trust_Evaluation/llmeval/parallel/parallel_request.py\"\n",
    "    gen_in_path = \"/Users/john/Desktop/LLM_Trust_Trust_Evaluation/llmeval/parallel/gen_in.jsonl\"\n",
    "    gen_out_path = \"/Users/john/Desktop/LLM_Trust_Trust_Evaluation/llmeval/parallel/gen_out.jsonl\"\n",
    "    ver_in_path = \"/Users/john/Desktop/LLM_Trust_Trust_Evaluation/llmeval/parallel/ver_in.jsonl\"\n",
    "    ver_out_path = \"/Users/john/Desktop/LLM_Trust_Trust_Evaluation/llmeval/parallel/ver_out.jsonl\"\n",
    "    regen_in_path = '/Users/john/Desktop/LLM_Trust_Trust_Evaluation/llmeval/parallel/regen_in.jsonl'\n",
    "    regen_out_path = \"/Users/john/Desktop/LLM_Trust_Trust_Evaluation/llmeval/parallel/regen_out.jsonl\"\n",
    "    tar_in_path = \"/Users/john/Desktop/LLM_Trust_Trust_Evaluation/llmeval/parallel/tar_in.jsonl\"\n",
    "    tar_out_path = \"/Users/john/Desktop/LLM_Trust_Trust_Evaluation/llmeval/parallel/tar_out.jsonl\"\n",
    "    history_path = \"/Users/john/Desktop/LLM_Trust_Trust_Evaluation/llmeval/parallel/history.json\"\n"
   ]
  },
  {
   "cell_type": "code",
   "execution_count": 5,
   "metadata": {},
   "outputs": [],
   "source": [
    "paths = [gen_in_path, gen_out_path, ver_in_path, ver_out_path, regen_in_path, regen_out_path, tar_in_path, tar_out_path, history_path]"
   ]
  },
  {
   "cell_type": "code",
   "execution_count": 6,
   "metadata": {},
   "outputs": [
    {
     "name": "stdout",
     "output_type": "stream",
     "text": [
      "C:\\Users\\johns\\OneDrive\\Desktop\\LLM_Trust_Trust_Evaluation\\llmeval\\parallel\\gen_in.jsonl Cleared\n",
      "C:\\Users\\johns\\OneDrive\\Desktop\\LLM_Trust_Trust_Evaluation\\llmeval\\parallel\\gen_out.jsonl Cleared\n",
      "C:\\Users\\johns\\OneDrive\\Desktop\\LLM_Trust_Trust_Evaluation\\llmeval\\parallel\\ver_in.jsonl Cleared\n",
      "C:\\Users\\johns\\OneDrive\\Desktop\\LLM_Trust_Trust_Evaluation\\llmeval\\parallel\\ver_out.jsonl Cleared\n",
      "C:\\Users\\johns\\OneDrive\\Desktop\\LLM_Trust_Trust_Evaluation\\llmeval\\parallel\\regen_in.jsonl Cleared\n",
      "C:\\Users\\johns\\OneDrive\\Desktop\\LLM_Trust_Trust_Evaluation\\llmeval\\parallel\\regen_out.jsonl Cleared\n",
      "C:\\Users\\johns\\OneDrive\\Desktop\\LLM_Trust_Trust_Evaluation\\llmeval\\parallel\\tar_in.jsonl Cleared\n",
      "C:\\Users\\johns\\OneDrive\\Desktop\\LLM_Trust_Trust_Evaluation\\llmeval\\parallel\\tar_out.jsonl Cleared\n",
      "C:\\Users\\johns\\OneDrive\\Desktop\\LLM_Trust_Trust_Evaluation\\llmeval\\parallel\\history.json Cleared\n"
     ]
    }
   ],
   "source": [
    "clear_file_contents(paths)"
   ]
  },
  {
   "cell_type": "code",
   "execution_count": 7,
   "metadata": {},
   "outputs": [
    {
     "name": "stdout",
     "output_type": "stream",
     "text": [
      "Building and Running Initial Generation\n",
      "\n",
      "Building Initial Target In\n",
      "\n",
      "tar_in emptied\n",
      "Building and Running Initial Verification\n",
      "\n",
      "Verification complete\n",
      "\n",
      "Regenerating, Iteration: 0\n",
      "Building and Running Regeneration of Failed Prompts\n",
      "\n",
      "Updating Target In File\n",
      "Re-Verifying Target In File\n",
      "\n",
      "Regenerating, Iteration: 1\n",
      "Building and Running Regeneration of Failed Prompts\n",
      "\n",
      "Updating Target In File\n",
      "Re-Verifying Target In File\n",
      "\n",
      "Regenerating, Iteration: 2\n",
      "Building and Running Regeneration of Failed Prompts\n",
      "\n",
      "Updating Target In File\n",
      "Re-Verifying Target In File\n",
      "\n",
      "Regen Limit Reached, Check NOT Passed\n",
      "\n",
      "\n",
      "Finished Regeneration Process\n",
      "\n",
      "Running Target Model prompts\n",
      "\n",
      "Save History\n",
      "\n",
      "First Iteration Complete\n",
      "First Iteration Complete\n",
      "Building and Running 1th Generation\n",
      "\n",
      "Building 1th Target In\n",
      "\n",
      "tar_in emptied\n",
      "Building and Running 1th Verification\n",
      "\n",
      "Verification complete\n",
      "\n",
      "Regenerating, Iteration: 0\n",
      "Building and Running Regeneration of Failed Prompts\n",
      "\n",
      "Updating Target In File\n",
      "Re-Verifying Target In File\n",
      "\n",
      "\n",
      "Finished Regeneration Process\n",
      "\n",
      "Running Target Model prompts\n",
      "\n",
      "Save History\n",
      "\n",
      "1th Iteration complete\n",
      "Building and Running 2th Generation\n",
      "\n",
      "Building 2th Target In\n",
      "\n",
      "tar_in emptied\n",
      "Building and Running 2th Verification\n",
      "\n",
      "Verification complete\n",
      "\n",
      "\n",
      "Finished Regeneration Process\n",
      "\n",
      "Running Target Model prompts\n",
      "\n",
      "Save History\n",
      "\n",
      "2th Iteration complete\n",
      "Building and Running 3th Generation\n",
      "\n",
      "Building 3th Target In\n",
      "\n",
      "tar_in emptied\n",
      "Building and Running 3th Verification\n",
      "\n",
      "Verification complete\n",
      "\n",
      "\n",
      "Finished Regeneration Process\n",
      "\n",
      "Running Target Model prompts\n",
      "\n",
      "Save History\n",
      "\n",
      "3th Iteration complete\n",
      "Building and Running 4th Generation\n",
      "\n",
      "Building 4th Target In\n",
      "\n",
      "tar_in emptied\n",
      "Building and Running 4th Verification\n",
      "\n",
      "Verification complete\n",
      "\n",
      "\n",
      "Finished Regeneration Process\n",
      "\n",
      "Running Target Model prompts\n",
      "\n",
      "Save History\n",
      "\n",
      "4th Iteration complete\n",
      "Generation Process Complete\n"
     ]
    }
   ],
   "source": [
    "run_parallel_evaluation(        \n",
    "        num_conversations, \n",
    "        num_iterations,\n",
    "        regen_lim,\n",
    "        regen_thresh,\n",
    "        domain, \n",
    "        trait, trait_definition, \n",
    "        script_path, \n",
    "        gen_in_path, gen_out_path, \n",
    "        ver_in_path, ver_out_path, \n",
    "        regen_in_path, regen_out_path, \n",
    "        tar_in_path, tar_out_path,\n",
    "        history_path\n",
    "    )"
   ]
  },
  {
   "cell_type": "code",
   "execution_count": null,
   "metadata": {},
   "outputs": [],
   "source": []
  }
 ],
 "metadata": {
  "kernelspec": {
   "display_name": "Python 3",
   "language": "python",
   "name": "python3"
  },
  "language_info": {
   "codemirror_mode": {
    "name": "ipython",
    "version": 3
   },
   "file_extension": ".py",
   "mimetype": "text/x-python",
   "name": "python",
   "nbconvert_exporter": "python",
   "pygments_lexer": "ipython3",
   "version": "3.11.2"
  }
 },
 "nbformat": 4,
 "nbformat_minor": 2
}
