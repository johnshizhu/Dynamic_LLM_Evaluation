{
 "cells": [
  {
   "cell_type": "code",
   "execution_count": 1,
   "metadata": {},
   "outputs": [],
   "source": [
    "from file_format import *\n",
    "import subprocess"
   ]
  },
  {
   "cell_type": "code",
   "execution_count": 2,
   "metadata": {},
   "outputs": [],
   "source": [
    "windows = False\n",
    "mac = True"
   ]
  },
  {
   "cell_type": "code",
   "execution_count": 3,
   "metadata": {},
   "outputs": [],
   "source": [
    "num_conversations = 10\n",
    "domain = \"Single Online Medical Diagnosis\"\n",
    "trait = \"Fairness\"\n",
    "trait_definition = \"The ethical principle of ensuring that LLMs are designed, trained, and deployed in ways that do not lead to biased or discriminatory outcomes and that they treat all users and groups equitably.\""
   ]
  },
  {
   "cell_type": "code",
   "execution_count": 4,
   "metadata": {},
   "outputs": [],
   "source": [
    "if windows: \n",
    "    gen_in_path = r'C:\\Users\\johns\\OneDrive\\Desktop\\LLM_Trust_Trust_Evaluation\\llmeval\\parallel\\gen_in.jsonl'\n",
    "if mac: \n",
    "    gen_in_path = \"/Users/john/Desktop/LLM_Trust_Trust_Evaluation/llmeval/parallel/gen_in.jsonl\""
   ]
  },
  {
   "cell_type": "code",
   "execution_count": 5,
   "metadata": {},
   "outputs": [],
   "source": [
    "build_generation_file(num_conversations, domain, trait, trait_definition, gen_in_path, first=True)"
   ]
  },
  {
   "cell_type": "code",
   "execution_count": 6,
   "metadata": {},
   "outputs": [],
   "source": [
    "# Generate first set of prompts\n",
    "\n",
    "if windows:\n",
    "    script_path = r\"C:\\Users\\johns\\OneDrive\\Desktop\\LLM_Trust_Trust_Evaluation\\llmeval\\parallel\\parallel_request.py\"\n",
    "    in_path = r\"C:\\Users\\johns\\OneDrive\\Desktop\\LLM_Trust_Trust_Evaluation\\llmeval\\parallel\\gen_in.jsonl\"\n",
    "    out_path = r\"C:\\Users\\johns\\OneDrive\\Desktop\\LLM_Trust_Trust_Evaluation\\llmeval\\parallel\\gen_out.jsonl\"\n",
    "\n",
    "if mac: \n",
    "    script_path = \"/Users/john/Desktop/LLM_Trust_Trust_Evaluation/llmeval/parallel/parallel_request.py\"\n",
    "    in_path = \"/Users/john/Desktop/LLM_Trust_Trust_Evaluation/llmeval/parallel/gen_in.jsonl\"\n",
    "    out_path = \"/Users/john/Desktop/LLM_Trust_Trust_Evaluation/llmeval/parallel/gen_out.jsonl\"\n",
    "\n",
    "result_with_args = subprocess.run(['python', script_path, in_path, out_path], capture_output=True, text=True)"
   ]
  },
  {
   "cell_type": "code",
   "execution_count": 7,
   "metadata": {},
   "outputs": [],
   "source": [
    "if windows: \n",
    "    ver_output = build_verification_file(num_conversations, domain, trait, trait_definition, r'C:\\Users\\johns\\OneDrive\\Desktop\\LLM_Trust_Trust_Evaluation\\llmeval\\parallel\\gen_out.jsonl', r'C:\\Users\\johns\\OneDrive\\Desktop\\LLM_Trust_Trust_Evaluation\\llmeval\\parallel\\ver_in.jsonl', first=True)\n",
    "if mac:\n",
    "    ver_output = build_verification_file(num_conversations, domain, trait, trait_definition, '/Users/john/Desktop/LLM_Trust_Trust_Evaluation/llmeval/parallel/gen_out.jsonl', '/Users/john/Desktop/LLM_Trust_Trust_Evaluation/llmeval/parallel/ver_in.jsonl', first=True)"
   ]
  },
  {
   "cell_type": "code",
   "execution_count": 8,
   "metadata": {},
   "outputs": [],
   "source": [
    "if windows:\n",
    "    in_path = r\"C:\\Users\\johns\\OneDrive\\Desktop\\LLM_Trust_Trust_Evaluation\\llmeval\\parallel\\ver_in.jsonl\"\n",
    "    out_path = r\"C:\\Users\\johns\\OneDrive\\Desktop\\LLM_Trust_Trust_Evaluation\\llmeval\\parallel\\ver_out.jsonl\"\n",
    "\n",
    "if mac: \n",
    "    in_path = \"/Users/john/Desktop/LLM_Trust_Trust_Evaluation/llmeval/parallel/ver_in.jsonl\"\n",
    "    out_path = \"/Users/john/Desktop/LLM_Trust_Trust_Evaluation/llmeval/parallel/ver_out.jsonl\"\n",
    "\n",
    "result_with_args = subprocess.run(['python', script_path, in_path, out_path], capture_output=True, text=True)"
   ]
  },
  {
   "cell_type": "code",
   "execution_count": 4,
   "metadata": {},
   "outputs": [
    {
     "name": "stdout",
     "output_type": "stream",
     "text": [
      "7\n",
      "10\n",
      "8\n",
      "8\n",
      "7\n",
      "7\n",
      "4\n",
      "10\n",
      "8\n",
      "4\n"
     ]
    }
   ],
   "source": [
    "if windows:\n",
    "    regen_output = build_regeneration_file(num_conversations, domain, trait, trait_definition, r'C:\\Users\\johns\\OneDrive\\Desktop\\LLM_Trust_Trust_Evaluation\\llmeval\\parallel\\ver_out.jsonl', r'C:\\Users\\johns\\OneDrive\\Desktop\\LLM_Trust_Trust_Evaluation\\llmeval\\parallel\\regen_in.jsonl')\n",
    "\n",
    "if mac: \n",
    "    regen_output = build_regeneration_file(num_conversations, domain, trait, trait_definition, '/Users/john/Desktop/LLM_Trust_Trust_Evaluation/llmeval/parallel/ver_out.jsonl', '/Users/john/Desktop/LLM_Trust_Trust_Evaluation/llmeval/parallel/regen_in.jsonl')\n"
   ]
  },
  {
   "cell_type": "code",
   "execution_count": null,
   "metadata": {},
   "outputs": [],
   "source": []
  }
 ],
 "metadata": {
  "kernelspec": {
   "display_name": "Python 3",
   "language": "python",
   "name": "python3"
  },
  "language_info": {
   "codemirror_mode": {
    "name": "ipython",
    "version": 3
   },
   "file_extension": ".py",
   "mimetype": "text/x-python",
   "name": "python",
   "nbconvert_exporter": "python",
   "pygments_lexer": "ipython3",
   "version": "3.12.3"
  }
 },
 "nbformat": 4,
 "nbformat_minor": 2
}
